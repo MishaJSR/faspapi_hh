{
 "cells": [
  {
   "cell_type": "code",
   "execution_count": 20,
   "metadata": {
    "collapsed": true,
    "ExecuteTime": {
     "end_time": "2024-10-18T12:06:01.538230800Z",
     "start_time": "2024-10-18T12:05:59.460686200Z"
    }
   },
   "outputs": [],
   "source": [
    "import spacy"
   ]
  },
  {
   "cell_type": "code",
   "execution_count": 23,
   "outputs": [],
   "source": [
    "nlp = spacy.load(\"ru_core_news_md\")"
   ],
   "metadata": {
    "collapsed": false,
    "ExecuteTime": {
     "end_time": "2024-10-18T12:11:07.479619Z",
     "start_time": "2024-10-18T12:11:05.596541600Z"
    }
   }
  },
  {
   "cell_type": "code",
   "execution_count": 26,
   "outputs": [
    {
     "name": "stdout",
     "output_type": "stream",
     "text": [
      "Сходство между \"Backend разработчик\" и \"Разработчик Django\": 0.00\n",
      "Сходство между \"Менеджер по продажам\" и \"Дворник\": 0.00\n"
     ]
    },
    {
     "name": "stderr",
     "output_type": "stream",
     "text": [
      "C:\\Users\\admin\\AppData\\Local\\Temp\\ipykernel_61616\\2564515153.py:11: UserWarning: [W008] Evaluating Doc.similarity based on empty vectors.\n",
      "  similarity = doc1.similarity(doc2)\n"
     ]
    }
   ],
   "source": [
    "def calculate_similarity(text1, text2):\n",
    "    # Обработка текстов\n",
    "    doc1 = nlp(text1)\n",
    "    doc2 = nlp(text2)\n",
    "\n",
    "    # Проверка, что векторы не пустые\n",
    "    if doc1.vector is None or doc2.vector is None:\n",
    "        return 0.0\n",
    "\n",
    "    # Вычисление косинусного сходства\n",
    "    similarity = doc1.similarity(doc2)\n",
    "    return similarity\n",
    "\n",
    "# Примеры\n",
    "text1 = \"Backend разработчик\"\n",
    "text2 = \"Разработчик Django\"\n",
    "text3 = \"Менеджер по продажам\"\n",
    "text4 = \"Дворник\"\n",
    "\n",
    "# Вычисление сходства\n",
    "similarity1 = calculate_similarity(text1, text2)\n",
    "similarity2 = calculate_similarity(text3, text4)\n",
    "\n",
    "print(f'Сходство между \"{text1}\" и \"{text2}\": {similarity1:.2f}')\n",
    "print(f'Сходство между \"{text3}\" и \"{text4}\": {similarity2:.2f}')"
   ],
   "metadata": {
    "collapsed": false,
    "ExecuteTime": {
     "end_time": "2024-10-18T12:13:01.458954300Z",
     "start_time": "2024-10-18T12:13:01.431888600Z"
    }
   }
  },
  {
   "cell_type": "code",
   "execution_count": null,
   "outputs": [],
   "source": [],
   "metadata": {
    "collapsed": false
   }
  }
 ],
 "metadata": {
  "kernelspec": {
   "display_name": "Python 3",
   "language": "python",
   "name": "python3"
  },
  "language_info": {
   "codemirror_mode": {
    "name": "ipython",
    "version": 2
   },
   "file_extension": ".py",
   "mimetype": "text/x-python",
   "name": "python",
   "nbconvert_exporter": "python",
   "pygments_lexer": "ipython2",
   "version": "2.7.6"
  }
 },
 "nbformat": 4,
 "nbformat_minor": 0
}
